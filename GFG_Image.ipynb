{
  "nbformat": 4,
  "nbformat_minor": 0,
  "metadata": {
    "colab": {
      "provenance": [],
      "authorship_tag": "ABX9TyMZaMJvmjxtGCw60eZmvw1l",
      "include_colab_link": true
    },
    "kernelspec": {
      "name": "python3",
      "display_name": "Python 3"
    },
    "language_info": {
      "name": "python"
    }
  },
  "cells": [
    {
      "cell_type": "markdown",
      "metadata": {
        "id": "view-in-github",
        "colab_type": "text"
      },
      "source": [
        "<a href=\"https://colab.research.google.com/github/abhisheksaxena1998/Machine-Minds-Image-Classifier/blob/main/GFG_Image.ipynb\" target=\"_parent\"><img src=\"https://colab.research.google.com/assets/colab-badge.svg\" alt=\"Open In Colab\"/></a>"
      ]
    },
    {
      "cell_type": "code",
      "execution_count": null,
      "metadata": {
        "id": "bAcokLvh2I9m"
      },
      "outputs": [],
      "source": [
        "pip install -q openai\n"
      ]
    },
    {
      "cell_type": "code",
      "source": [
        "pip install pillow"
      ],
      "metadata": {
        "id": "wGex4QHj23bz"
      },
      "execution_count": null,
      "outputs": []
    },
    {
      "cell_type": "code",
      "source": [
        "import openai\n",
        "openai.api_key = '----------'\n"
      ],
      "metadata": {
        "id": "C87MTKyI29yH"
      },
      "execution_count": null,
      "outputs": []
    },
    {
      "cell_type": "code",
      "source": [
        "import requests\n",
        "from PIL import Image\n"
      ],
      "metadata": {
        "id": "P2QD0bk03BQR"
      },
      "execution_count": null,
      "outputs": []
    },
    {
      "cell_type": "code",
      "source": [
        "def generate(text):\n",
        "    res = openai.Image.create(\n",
        "    \tprompt=text,\n",
        "    \tn=1,\n",
        "    \tsize=\"256x256\",\n",
        "    )\n",
        "    return res[\"data\"][0][\"url\"]\n"
      ],
      "metadata": {
        "id": "dZzZpAc03Dqh"
      },
      "execution_count": null,
      "outputs": []
    },
    {
      "cell_type": "code",
      "source": [
        "from PIL import Image\n",
        "import matplotlib.pyplot as plt"
      ],
      "metadata": {
        "id": "mNIRMiXK3GGC"
      },
      "execution_count": null,
      "outputs": []
    },
    {
      "cell_type": "code",
      "source": [
        "text = \"batman with green arrow\"\n",
        "url = generate(text)\n",
        "response = requests.get(url)"
      ],
      "metadata": {
        "id": "f0tg5YGj3Idf"
      },
      "execution_count": null,
      "outputs": []
    },
    {
      "cell_type": "code",
      "source": [
        "from io import BytesIO\n",
        "image = Image.open(BytesIO(response.content))\n",
        "plt.imshow(image)"
      ],
      "metadata": {
        "id": "S6kNd8mL3J-O"
      },
      "execution_count": null,
      "outputs": []
    }
  ]
}